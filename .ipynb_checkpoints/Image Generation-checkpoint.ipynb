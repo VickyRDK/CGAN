{
 "cells": [
  {
   "cell_type": "code",
   "execution_count": 7,
   "metadata": {},
   "outputs": [],
   "source": [
    "import os\n",
    "import cv2\n",
    "import numpy as np\n",
    "import random\n"
   ]
  },
  {
   "cell_type": "code",
   "execution_count": 22,
   "metadata": {},
   "outputs": [],
   "source": [
    "for k in range(0,5000):\n",
    "    arr = np.zeros((8,8), dtype = float)\n",
    "    for j in range(0,8):\n",
    "        for i in range(0,8):\n",
    "            if(i<4):\n",
    "                arr[j][i] = random.randrange(0, 128)\n",
    "            else:\n",
    "                arr[j][i] = 255\n",
    "    cv2.imwrite(r'C:\\Users\\sivav\\Edges\\Vertical\\Vertical_'+ str(k) +'.jpg',arr)\n",
    "    \n",
    "for k in range(0,5000):\n",
    "    arr = np.zeros((8,8), dtype = float)\n",
    "    for j in range(0,8):\n",
    "        for i in range(0,8):\n",
    "            if(j<4):\n",
    "                arr[j][i] = random.randrange(0, 128)\n",
    "            else:\n",
    "                arr[j][i] = 255\n",
    "    cv2.imwrite(r'C:\\Users\\sivav\\Edges\\Horizontal\\Horizontal_'+ str(k) +'.jpg',arr)\n",
    "               "
   ]
  },
  {
   "cell_type": "code",
   "execution_count": null,
   "metadata": {},
   "outputs": [],
   "source": []
  },
  {
   "cell_type": "code",
   "execution_count": null,
   "metadata": {},
   "outputs": [],
   "source": []
  },
  {
   "cell_type": "code",
   "execution_count": null,
   "metadata": {},
   "outputs": [],
   "source": []
  }
 ],
 "metadata": {
  "kernelspec": {
   "display_name": "Python 3",
   "language": "python",
   "name": "python3"
  },
  "language_info": {
   "codemirror_mode": {
    "name": "ipython",
    "version": 3
   },
   "file_extension": ".py",
   "mimetype": "text/x-python",
   "name": "python",
   "nbconvert_exporter": "python",
   "pygments_lexer": "ipython3",
   "version": "3.8.3"
  }
 },
 "nbformat": 4,
 "nbformat_minor": 4
}
